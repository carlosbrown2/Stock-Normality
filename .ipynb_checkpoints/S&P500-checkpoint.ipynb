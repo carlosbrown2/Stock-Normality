{
 "cells": [
  {
   "cell_type": "markdown",
   "metadata": {},
   "source": [
    "## Test the hypothesis of whether stock movements of major indices can be modeled by the Gaussian distribution. We will use visualization and the Anderson-Darling Test, since it gives more weight to the tails."
   ]
  },
  {
   "cell_type": "code",
   "execution_count": 1,
   "metadata": {},
   "outputs": [],
   "source": [
    "#get required modules for analysis\n",
    "import pandas as pd\n",
    "import numpy as np\n",
    "import matplotlib.pyplot as plt\n",
    "import scipy.stats as sci"
   ]
  },
  {
   "cell_type": "code",
   "execution_count": 2,
   "metadata": {
    "scrolled": true
   },
   "outputs": [],
   "source": [
    "#read data from csv file obtained from yahoo.com\n",
    "sp = pd.read_csv(\"^GSPC.csv\",encoding = \"utf-8-sig\",index_col='Date',parse_dates=True)\n",
    "dow = pd.read_csv(\"^DJI.csv\",encoding = \"utf-8-sig\",index_col='Date',parse_dates=True)"
   ]
  },
  {
   "cell_type": "code",
   "execution_count": 3,
   "metadata": {},
   "outputs": [
    {
     "data": {
      "text/html": [
       "<div>\n",
       "<style scoped>\n",
       "    .dataframe tbody tr th:only-of-type {\n",
       "        vertical-align: middle;\n",
       "    }\n",
       "\n",
       "    .dataframe tbody tr th {\n",
       "        vertical-align: top;\n",
       "    }\n",
       "\n",
       "    .dataframe thead th {\n",
       "        text-align: right;\n",
       "    }\n",
       "</style>\n",
       "<table border=\"1\" class=\"dataframe\">\n",
       "  <thead>\n",
       "    <tr style=\"text-align: right;\">\n",
       "      <th></th>\n",
       "      <th>Open</th>\n",
       "      <th>High</th>\n",
       "      <th>Low</th>\n",
       "      <th>Close</th>\n",
       "      <th>Adj Close</th>\n",
       "      <th>Volume</th>\n",
       "    </tr>\n",
       "    <tr>\n",
       "      <th>Date</th>\n",
       "      <th></th>\n",
       "      <th></th>\n",
       "      <th></th>\n",
       "      <th></th>\n",
       "      <th></th>\n",
       "      <th></th>\n",
       "    </tr>\n",
       "  </thead>\n",
       "  <tbody>\n",
       "    <tr>\n",
       "      <th>1985-01-29</th>\n",
       "      <td>1277.719971</td>\n",
       "      <td>1295.489990</td>\n",
       "      <td>1266.890015</td>\n",
       "      <td>1292.619995</td>\n",
       "      <td>1292.619995</td>\n",
       "      <td>13560000</td>\n",
       "    </tr>\n",
       "    <tr>\n",
       "      <th>1985-01-30</th>\n",
       "      <td>1297.369995</td>\n",
       "      <td>1305.099976</td>\n",
       "      <td>1278.930054</td>\n",
       "      <td>1287.880005</td>\n",
       "      <td>1287.880005</td>\n",
       "      <td>16820000</td>\n",
       "    </tr>\n",
       "    <tr>\n",
       "      <th>1985-01-31</th>\n",
       "      <td>1283.239990</td>\n",
       "      <td>1293.400024</td>\n",
       "      <td>1272.640015</td>\n",
       "      <td>1286.770020</td>\n",
       "      <td>1286.770020</td>\n",
       "      <td>14070000</td>\n",
       "    </tr>\n",
       "    <tr>\n",
       "      <th>1985-02-01</th>\n",
       "      <td>1276.939941</td>\n",
       "      <td>1286.109985</td>\n",
       "      <td>1269.770020</td>\n",
       "      <td>1277.719971</td>\n",
       "      <td>1277.719971</td>\n",
       "      <td>10980000</td>\n",
       "    </tr>\n",
       "    <tr>\n",
       "      <th>1985-02-04</th>\n",
       "      <td>1272.079956</td>\n",
       "      <td>1294.939941</td>\n",
       "      <td>1268.989990</td>\n",
       "      <td>1290.079956</td>\n",
       "      <td>1290.079956</td>\n",
       "      <td>11630000</td>\n",
       "    </tr>\n",
       "  </tbody>\n",
       "</table>\n",
       "</div>"
      ],
      "text/plain": [
       "                   Open         High          Low        Close    Adj Close  \\\n",
       "Date                                                                          \n",
       "1985-01-29  1277.719971  1295.489990  1266.890015  1292.619995  1292.619995   \n",
       "1985-01-30  1297.369995  1305.099976  1278.930054  1287.880005  1287.880005   \n",
       "1985-01-31  1283.239990  1293.400024  1272.640015  1286.770020  1286.770020   \n",
       "1985-02-01  1276.939941  1286.109985  1269.770020  1277.719971  1277.719971   \n",
       "1985-02-04  1272.079956  1294.939941  1268.989990  1290.079956  1290.079956   \n",
       "\n",
       "              Volume  \n",
       "Date                  \n",
       "1985-01-29  13560000  \n",
       "1985-01-30  16820000  \n",
       "1985-01-31  14070000  \n",
       "1985-02-01  10980000  \n",
       "1985-02-04  11630000  "
      ]
     },
     "execution_count": 3,
     "metadata": {},
     "output_type": "execute_result"
    }
   ],
   "source": [
    "#set Date as index and visualize data\n",
    "dow.head()"
   ]
  },
  {
   "cell_type": "code",
   "execution_count": 4,
   "metadata": {},
   "outputs": [
    {
     "data": {
      "text/html": [
       "<div>\n",
       "<style scoped>\n",
       "    .dataframe tbody tr th:only-of-type {\n",
       "        vertical-align: middle;\n",
       "    }\n",
       "\n",
       "    .dataframe tbody tr th {\n",
       "        vertical-align: top;\n",
       "    }\n",
       "\n",
       "    .dataframe thead th {\n",
       "        text-align: right;\n",
       "    }\n",
       "</style>\n",
       "<table border=\"1\" class=\"dataframe\">\n",
       "  <thead>\n",
       "    <tr style=\"text-align: right;\">\n",
       "      <th></th>\n",
       "      <th>Open</th>\n",
       "      <th>High</th>\n",
       "      <th>Low</th>\n",
       "      <th>Close</th>\n",
       "      <th>Adj Close</th>\n",
       "      <th>Volume</th>\n",
       "      <th>Returns</th>\n",
       "    </tr>\n",
       "    <tr>\n",
       "      <th>Date</th>\n",
       "      <th></th>\n",
       "      <th></th>\n",
       "      <th></th>\n",
       "      <th></th>\n",
       "      <th></th>\n",
       "      <th></th>\n",
       "      <th></th>\n",
       "    </tr>\n",
       "  </thead>\n",
       "  <tbody>\n",
       "    <tr>\n",
       "      <th>1950-01-04</th>\n",
       "      <td>16.850000</td>\n",
       "      <td>16.850000</td>\n",
       "      <td>16.850000</td>\n",
       "      <td>16.850000</td>\n",
       "      <td>16.850000</td>\n",
       "      <td>1890000</td>\n",
       "      <td>1.140456</td>\n",
       "    </tr>\n",
       "    <tr>\n",
       "      <th>1950-01-05</th>\n",
       "      <td>16.930000</td>\n",
       "      <td>16.930000</td>\n",
       "      <td>16.930000</td>\n",
       "      <td>16.930000</td>\n",
       "      <td>16.930000</td>\n",
       "      <td>2550000</td>\n",
       "      <td>0.474777</td>\n",
       "    </tr>\n",
       "    <tr>\n",
       "      <th>1950-01-06</th>\n",
       "      <td>16.980000</td>\n",
       "      <td>16.980000</td>\n",
       "      <td>16.980000</td>\n",
       "      <td>16.980000</td>\n",
       "      <td>16.980000</td>\n",
       "      <td>2010000</td>\n",
       "      <td>0.295334</td>\n",
       "    </tr>\n",
       "    <tr>\n",
       "      <th>1950-01-09</th>\n",
       "      <td>17.090000</td>\n",
       "      <td>17.090000</td>\n",
       "      <td>17.080000</td>\n",
       "      <td>17.080000</td>\n",
       "      <td>17.080000</td>\n",
       "      <td>3850000</td>\n",
       "      <td>0.588928</td>\n",
       "    </tr>\n",
       "    <tr>\n",
       "      <th>1950-01-10</th>\n",
       "      <td>17.030001</td>\n",
       "      <td>17.030001</td>\n",
       "      <td>17.030001</td>\n",
       "      <td>17.030001</td>\n",
       "      <td>17.030001</td>\n",
       "      <td>2160000</td>\n",
       "      <td>-0.292734</td>\n",
       "    </tr>\n",
       "  </tbody>\n",
       "</table>\n",
       "</div>"
      ],
      "text/plain": [
       "                 Open       High        Low      Close  Adj Close   Volume  \\\n",
       "Date                                                                         \n",
       "1950-01-04  16.850000  16.850000  16.850000  16.850000  16.850000  1890000   \n",
       "1950-01-05  16.930000  16.930000  16.930000  16.930000  16.930000  2550000   \n",
       "1950-01-06  16.980000  16.980000  16.980000  16.980000  16.980000  2010000   \n",
       "1950-01-09  17.090000  17.090000  17.080000  17.080000  17.080000  3850000   \n",
       "1950-01-10  17.030001  17.030001  17.030001  17.030001  17.030001  2160000   \n",
       "\n",
       "             Returns  \n",
       "Date                  \n",
       "1950-01-04  1.140456  \n",
       "1950-01-05  0.474777  \n",
       "1950-01-06  0.295334  \n",
       "1950-01-09  0.588928  \n",
       "1950-01-10 -0.292734  "
      ]
     },
     "execution_count": 4,
     "metadata": {},
     "output_type": "execute_result"
    }
   ],
   "source": [
    "#calculate returns\n",
    "spx_returns = sp['Close'].pct_change(periods=1)\n",
    "sp['Returns'] = spx_returns*100\n",
    "sp.dropna(axis=0,how='any',inplace=True)\n",
    "\n",
    "dow_returns = dow['Close'].pct_change(periods=1)\n",
    "dow['Returns'] = dow_returns*100\n",
    "dow.dropna(axis=0,how='any',inplace=True)\n",
    "sp.head()"
   ]
  },
  {
   "cell_type": "markdown",
   "metadata": {},
   "source": [
    "## Sample Statistics"
   ]
  },
  {
   "cell_type": "code",
   "execution_count": 5,
   "metadata": {},
   "outputs": [
    {
     "name": "stdout",
     "output_type": "stream",
     "text": [
      "S&P 500\n",
      "count    17171.000000\n",
      "mean         0.034026\n",
      "std          0.962076\n",
      "min        -20.466931\n",
      "25%         -0.403133\n",
      "50%          0.046444\n",
      "75%          0.496082\n",
      "max         11.580037\n",
      "Name: Returns, dtype: float64\n",
      "\n",
      "Dow Jones Industrial Average\n",
      "count    8535.000000\n",
      "mean        0.040444\n",
      "std         1.092199\n",
      "min       -22.610193\n",
      "25%        -0.434677\n",
      "50%         0.056005\n",
      "75%         0.558876\n",
      "max        11.080332\n",
      "Name: Returns, dtype: float64\n"
     ]
    }
   ],
   "source": [
    "#calculate sample statistics for Returns\n",
    "spx_stats = sp['Returns'].describe()\n",
    "dow_stats = dow['Returns'].describe()\n",
    "print(\"S&P 500\")\n",
    "print(spx_stats)\n",
    "print(\"\")\n",
    "print(\"Dow Jones Industrial Average\")\n",
    "print(dow_stats)"
   ]
  },
  {
   "cell_type": "markdown",
   "metadata": {},
   "source": [
    "As expected, the mean returns are slightly positive. If they were zero or negative, then it would be a zero sum game given the current investing environment. However over the long run (20+ years) people expect the market to give them a positive return. Data visualization will help us understand the situation better."
   ]
  },
  {
   "cell_type": "markdown",
   "metadata": {},
   "source": [
    "## Data Visualization"
   ]
  },
  {
   "cell_type": "code",
   "execution_count": 54,
   "metadata": {},
   "outputs": [],
   "source": [
    "#generate normal to compare to S&P 500\n",
    "sample_size = sp.shape[0]\n",
    "mean = spx_returns.mean()\n",
    "std = spx_returns.std()\n",
    "normal_dist = pd.DataFrame(np.random.normal(loc=mean,scale=std,size=sample_size*7),columns=['Returns'])*100"
   ]
  },
  {
   "cell_type": "code",
   "execution_count": 56,
   "metadata": {},
   "outputs": [
    {
     "data": {
      "image/png": "[encoded data removed]",
      "text/plain": [
       "<Figure size 576x396 with 1 Axes>"
      ]
     },
     "metadata": {},
     "output_type": "display_data"
    }
   ],
   "source": [
    "plt.style.use('seaborn')\n",
    "axsp = sp['Returns'].plot(kind='hist',bins=250,label='S&P 500',legend=True)\n",
    "axnorm = normal_dist['Returns'].plot(kind='hist',bins=250,label='Normal Dist.',legend=True,alpha=0.6)\n",
    "axsp.set_xlim(-7,7)\n",
    "axnorm.set_xlim(-7,7)\n",
    "plt.title('Distribution of Stock Exchange Returns')\n",
    "plt.show()"
   ]
  },
  {
   "cell_type": "markdown",
   "metadata": {},
   "source": [
    "We already see a deviation from the normal distribution. Let's look at **IQR** and a **q-q plot** to see how the quantiles match up."
   ]
  },
  {
   "cell_type": "code",
   "execution_count": 59,
   "metadata": {},
   "outputs": [
    {
     "name": "stdout",
     "output_type": "stream",
     "text": [
      "Normal Dist. IQR 1.298\n",
      "Sample Dist. IQR 0.899\n"
     ]
    }
   ],
   "source": [
    "norm_stats = normal_dist['Returns'].describe()\n",
    "iqr_sample = float(spx_stats.loc['75%']-spx_stats.loc['25%'])\n",
    "iqr_norm = float(norm_stats.loc['75%']-norm_stats.loc['25%'])\n",
    "\n",
    "print('Normal Dist. IQR',round(iqr_norm,3))\n",
    "print('Sample Dist. IQR',round(iqr_sample,3))\n"
   ]
  },
  {
   "cell_type": "markdown",
   "metadata": {},
   "source": [
    "There is indeed more variability around the mean in the normal distribution, considering the middle 50% of data. Still, the data may be drawn from a normal distribution."
   ]
  },
  {
   "cell_type": "code",
   "execution_count": 72,
   "metadata": {},
   "outputs": [
    {
     "data": {
      "text/plain": [
       "Text(0.5, 1.0, 'q-q plot for S&P 500 Returns against normal dist.')"
      ]
     },
     "execution_count": 72,
     "metadata": {},
     "output_type": "execute_result"
    },
    {
     "data": {
      "image/png": "[encoded data removed]",
      "text/plain": [
       "<Figure size 576x396 with 1 Axes>"
      ]
     },
     "metadata": {},
     "output_type": "display_data"
    }
   ],
   "source": [
    "fig = plt.figure()\n",
    "ax = fig.add_subplot(111)\n",
    "sci.probplot(sp['Returns'], dist=sci.norm,sparams=(mean,std), plot=ax)\n",
    "ax.set_title(\"q-q plot for S&P 500 Returns against normal dist.\")"
   ]
  },
  {
   "cell_type": "markdown",
   "metadata": {},
   "source": [
    "The q-q plot makes it more clear how the S&P 500 deviates from the normal getting close to the tails, but is otherwise normally distributed without them. However, this is a significant portion of the dataset that does not match a normal distribution. Let's perform the Anderson-Darling Test on our data to test for normality. "
   ]
  },
  {
   "cell_type": "markdown",
   "metadata": {},
   "source": [
    "## Hypothesis Test"
   ]
  },
  {
   "cell_type": "markdown",
   "metadata": {},
   "source": [
    "The hypothesis test is set up in the following manner\n",
    "\n",
    "**H0** = Data come from a population that is normally distributed\n",
    "\n",
    "**Ha** = Data do not come from a population that is normally distributed"
   ]
  },
  {
   "cell_type": "code",
   "execution_count": 74,
   "metadata": {},
   "outputs": [
    {
     "name": "stdout",
     "output_type": "stream",
     "text": [
      "For the S&P 500 , we reject H0 at alpha = 1%, data are not drawn from a normal distribution\n",
      "\n",
      "AndersonResult(statistic=247.60546119876017, critical_values=array([0.576, 0.656, 0.787, 0.918, 1.092]), significance_level=array([15. , 10. ,  5. ,  2.5,  1. ]))\n",
      "\n",
      "For the Dow Jones , we reject H0 at alpha = 1%, data are not drawn from a normal distribution\n",
      "\n",
      "AndersonResult(statistic=141.29119933722723, critical_values=array([0.576, 0.656, 0.787, 0.918, 1.091]), significance_level=array([15. , 10. ,  5. ,  2.5,  1. ]))\n",
      "\n"
     ]
    }
   ],
   "source": [
    "#perform anderson darling test on sample data\n",
    "sp_norm_test = sci.anderson(sp['Returns'], dist='norm')\n",
    "dow_norm_test = sci.anderson(dow['Returns'], dist='norm')\n",
    "indexlist = [['S&P 500',sp_norm_test],['Dow Jones',dow_norm_test]]\n",
    "for index in indexlist:\n",
    "    if index[1].statistic > index[1].critical_values[4]:\n",
    "        print('For the',index[0],', we reject H0 at alpha = 1%, data are not drawn from a normal distribution')\n",
    "        print('')\n",
    "        print(index[1])\n",
    "        print('')\n",
    "    else:\n",
    "        print('We fail to reject H0 at alpha = 1% for',index[0], 'data are drawn from a normal distribution')\n",
    "        print('')\n",
    "        print(index[1])\n",
    "        "
   ]
  },
  {
   "cell_type": "markdown",
   "metadata": {},
   "source": [
    "## Summary"
   ]
  },
  {
   "cell_type": "markdown",
   "metadata": {},
   "source": [
    "So! We don't seem to have normal distributions of stock movement for the **S&P 500** or the **DOW**. That's very interesting, since the normal distribution is used extensively to model financial instruments, including stocks and options. What can we learn? \n",
    "\n",
    "- First, if we are trading these indices, we can expect that at least 50% of the time, the movements are going to be less than what is predicted from the generally accepted models. But we have no clue how to know when this paradigm holds true (i.e. we could be in a market crash and are making big daily moves).\n",
    "\n",
    "- Second, in trading these indices, we are exposed to what are called **\"Black Swan\"** events, events that aren't predictable and can really hurt or really help, depending on your position. But empirically speaking, the downside is greater than the upside even if theoretically we not only expect much more restrained movement, but also a price could keep going up and up while zero is our lower limit (no negative prices unless it's your birthday or Christmas). Anyone trading risk defined positions is protected from such events, however naked positions could really do some damage here.\n",
    "\n",
    "- Finally, the normal distribution seems to be in use because A. It is well understood and B. for everyday normal trading days, the data move somewhat in line with the normal distribution. Until they don't, and let's hope you've hedged your bets.\n",
    "\n",
    "Next steps\n",
    "*Calculate returns and perform A-D test on a basket of individual stocks to see if we get some sort of aggregation effect when looking at an index, which is a mix of many stocks\n",
    "*Compare empirical results to a random walk model (a la Random Walk Down Wall Street)\n",
    "*Utilize other statistical tests to further our case for or against normality. I mean, who wants to be normal, right? So boring... maybe like this analysis is boring... oh no..."
   ]
  },
  {
   "cell_type": "markdown",
   "metadata": {},
   "source": [
    "S.D.G."
   ]
  },
  {
   "cell_type": "code",
   "execution_count": null,
   "metadata": {},
   "outputs": [],
   "source": []
  }
 ],
 "metadata": {
  "kernelspec": {
   "display_name": "Python 3",
   "language": "python",
   "name": "python3"
  },
  "language_info": {
   "codemirror_mode": {
    "name": "ipython",
    "version": 3
   },
   "file_extension": ".py",
   "mimetype": "text/x-python",
   "name": "python",
   "nbconvert_exporter": "python",
   "pygments_lexer": "ipython3",
   "version": "3.7.1"
  },
  "toc": {
   "base_numbering": 1,
   "nav_menu": {},
   "number_sections": true,
   "sideBar": true,
   "skip_h1_title": false,
   "title_cell": "Table of Contents",
   "title_sidebar": "Contents",
   "toc_cell": false,
   "toc_position": {},
   "toc_section_display": true,
   "toc_window_display": false
  }
 },
 "nbformat": 4,
 "nbformat_minor": 2
}
