{
 "cells": [
  {
   "cell_type": "markdown",
   "metadata": {},
   "source": [
    "Test the hypothesis of whether stock movements of major indices can be modeled by the Gaussian distribution. We will use the Anderson-Darling Test since it gives more weight to the tails. Stocks can be fat tailed, so we need to pay close attention to this when testing for normality."
   ]
  },
  {
   "cell_type": "code",
   "execution_count": 1,
   "metadata": {},
   "outputs": [],
   "source": [
    "#get required modules for analysis\n",
    "import pandas as pd\n",
    "import numpy as np\n",
    "import matplotlib.pyplot as plt\n",
    "import math as m\n",
    "import scipy.stats as sci"
   ]
  },
  {
   "cell_type": "code",
   "execution_count": 2,
   "metadata": {
    "scrolled": true
   },
   "outputs": [],
   "source": [
    "#read data from csv file obtained from yahoo.com\n",
    "sp = pd.read_csv(\"^GSPC.csv\",encoding = \"utf-8-sig\")\n",
    "dow = pd.read_csv(\"^DJI.csv\",encoding = \"utf-8-sig\")"
   ]
  },
  {
   "cell_type": "code",
   "execution_count": 3,
   "metadata": {},
   "outputs": [
    {
     "data": {
      "text/html": [
       "<div>\n",
       "<style scoped>\n",
       "    .dataframe tbody tr th:only-of-type {\n",
       "        vertical-align: middle;\n",
       "    }\n",
       "\n",
       "    .dataframe tbody tr th {\n",
       "        vertical-align: top;\n",
       "    }\n",
       "\n",
       "    .dataframe thead th {\n",
       "        text-align: right;\n",
       "    }\n",
       "</style>\n",
       "<table border=\"1\" class=\"dataframe\">\n",
       "  <thead>\n",
       "    <tr style=\"text-align: right;\">\n",
       "      <th></th>\n",
       "      <th>Date</th>\n",
       "      <th>Open</th>\n",
       "      <th>High</th>\n",
       "      <th>Low</th>\n",
       "      <th>Close</th>\n",
       "      <th>Adj Close</th>\n",
       "      <th>Volume</th>\n",
       "    </tr>\n",
       "  </thead>\n",
       "  <tbody>\n",
       "    <tr>\n",
       "      <th>0</th>\n",
       "      <td>1/3/1950</td>\n",
       "      <td>16.66</td>\n",
       "      <td>16.66</td>\n",
       "      <td>16.66</td>\n",
       "      <td>16.66</td>\n",
       "      <td>16.66</td>\n",
       "      <td>1260000</td>\n",
       "    </tr>\n",
       "    <tr>\n",
       "      <th>1</th>\n",
       "      <td>1/4/1950</td>\n",
       "      <td>16.85</td>\n",
       "      <td>16.85</td>\n",
       "      <td>16.85</td>\n",
       "      <td>16.85</td>\n",
       "      <td>16.85</td>\n",
       "      <td>1890000</td>\n",
       "    </tr>\n",
       "    <tr>\n",
       "      <th>2</th>\n",
       "      <td>1/5/1950</td>\n",
       "      <td>16.93</td>\n",
       "      <td>16.93</td>\n",
       "      <td>16.93</td>\n",
       "      <td>16.93</td>\n",
       "      <td>16.93</td>\n",
       "      <td>2550000</td>\n",
       "    </tr>\n",
       "    <tr>\n",
       "      <th>3</th>\n",
       "      <td>1/6/1950</td>\n",
       "      <td>16.98</td>\n",
       "      <td>16.98</td>\n",
       "      <td>16.98</td>\n",
       "      <td>16.98</td>\n",
       "      <td>16.98</td>\n",
       "      <td>2010000</td>\n",
       "    </tr>\n",
       "    <tr>\n",
       "      <th>4</th>\n",
       "      <td>1/9/1950</td>\n",
       "      <td>17.09</td>\n",
       "      <td>17.09</td>\n",
       "      <td>17.08</td>\n",
       "      <td>17.08</td>\n",
       "      <td>17.08</td>\n",
       "      <td>3850000</td>\n",
       "    </tr>\n",
       "  </tbody>\n",
       "</table>\n",
       "</div>"
      ],
      "text/plain": [
       "       Date   Open   High    Low  Close  Adj Close   Volume\n",
       "0  1/3/1950  16.66  16.66  16.66  16.66      16.66  1260000\n",
       "1  1/4/1950  16.85  16.85  16.85  16.85      16.85  1890000\n",
       "2  1/5/1950  16.93  16.93  16.93  16.93      16.93  2550000\n",
       "3  1/6/1950  16.98  16.98  16.98  16.98      16.98  2010000\n",
       "4  1/9/1950  17.09  17.09  17.08  17.08      17.08  3850000"
      ]
     },
     "execution_count": 3,
     "metadata": {},
     "output_type": "execute_result"
    }
   ],
   "source": [
    "#set Date as index and visualize data\n",
    "sp.head()"
   ]
  },
  {
   "cell_type": "code",
   "execution_count": 4,
   "metadata": {},
   "outputs": [],
   "source": [
    "#iterate over close array and calculate returns\n",
    "def getreturns(price, column):\n",
    "    price.insert(loc=len(price.columns),column='Returns',value=0)\n",
    "    for index, val in price.iterrows():\n",
    "        if index+1==len(price[column]):\n",
    "            break\n",
    "        price.loc[index, 'Returns'] = (m.log(price.loc[index+1,column])-m.log(val.loc[column]))*100\n",
    "    return price\n",
    "\n",
    "spx_returns = getreturns(sp,'Close')\n",
    "dow_returns = getreturns(dow,'Close')"
   ]
  },
  {
   "cell_type": "code",
   "execution_count": 5,
   "metadata": {},
   "outputs": [
    {
     "name": "stdout",
     "output_type": "stream",
     "text": [
      "S&P 500\n",
      "count    17172.000000\n",
      "mean         0.029369\n",
      "std          0.965781\n",
      "min        -22.899729\n",
      "25%         -0.403902\n",
      "50%          0.046407\n",
      "75%          0.494839\n",
      "max         10.957197\n",
      "Name: Returns, dtype: float64\n",
      "\n",
      "Dow Jones Industrial Average\n",
      "count    8536.000000\n",
      "mean        0.034413\n",
      "std         1.100377\n",
      "min       -25.631511\n",
      "25%        -0.435571\n",
      "50%         0.055860\n",
      "75%         0.557292\n",
      "max        10.508346\n",
      "Name: Returns, dtype: float64\n"
     ]
    }
   ],
   "source": [
    "#calculate sample statistics\n",
    "spx_stats = spx_returns['Returns'].describe()\n",
    "dow_stats = dow_returns['Returns'].describe()\n",
    "print(\"S&P 500\")\n",
    "print(spx_stats)\n",
    "print(\"\")\n",
    "print(\"Dow Jones Industrial Average\")\n",
    "print(dow_stats)"
   ]
  },
  {
   "cell_type": "markdown",
   "metadata": {},
   "source": [
    "As expected, the mean returns are slightly positive. If they were zero or negative, then it would be a zero sum game given the current investing environment. However over the long run (20+ years) people expect the market to give them a positive return. Next, we use a couple of high powered statistical tests to find whether our daily returns are normally distributed with the following hypothesis.\n",
    "\n",
    "H0 = Data come from a population that is normally distributed\n",
    "Ha = Data do not come from a population that is normally distributed"
   ]
  },
  {
   "cell_type": "code",
   "execution_count": 10,
   "metadata": {},
   "outputs": [
    {
     "data": {
      "image/png": "[encoded data removed]",
      "text/plain": [
       "<Figure size 576x396 with 1 Axes>"
      ]
     },
     "metadata": {},
     "output_type": "display_data"
    }
   ],
   "source": [
    "#generate histogram based on sample data\n",
    "np_spx_returns = np.array(spx_returns['Returns'])\n",
    "x_low_lim = -5\n",
    "x_upper_lim = 5\n",
    "density = spx_returns['Returns'].count()\n",
    "bins = np.arange(x_low_lim,x_upper_lim,0.1)\n",
    "hist, edges = np.histogram(np_spx_returns,bins)\n",
    "#generate histogram based on a normal distribution with loc = sample mean, std = sample std\n",
    "norm_sample = np.random.normal(spx_returns['Returns'].mean(),spx_returns['Returns'].std(),density)\n",
    "histnorm, edgesnorm = np.histogram(norm_sample,bins)\n",
    "freqnorm = histnorm/float(histnorm.sum())\n",
    "#plt.hist(rel_norm_sample,alpha = 0.5)\n",
    "freq = hist/float(hist.sum())\n",
    "plt.bar(bins[:-1],freq,align='edge',alpha=0.8,label='S&P 500')\n",
    "plt.bar(bins[:-1],freqnorm,align='edge',alpha=0.2,color='yellow',label='Normal Dist.')\n",
    "plt.style.use('seaborn')\n",
    "plt.xlim(-5,5)\n",
    "plt.title('S&P 500 Daily Returns, relative frequency plot')\n",
    "plt.ylabel('Frequency')\n",
    "plt.xlabel('Daily Return (%), continuous compounding')\n",
    "plt.legend(loc='upper right')\n",
    "plt.show()"
   ]
  },
  {
   "cell_type": "markdown",
   "metadata": {},
   "source": [
    "Inspection of the histograms of the S&P 500 sample and points generated from a normal distribution with standard deviation equivalent to our sample shows there is more variation close to the mean for the normal distribution than our sample. More of the sample values cluster around the mean, while at the same time the most extreme values far exceed what is expected if the stock movements were normally distributed. Let's quantify this now that we have an idea of it graphically."
   ]
  },
  {
   "cell_type": "code",
   "execution_count": 7,
   "metadata": {},
   "outputs": [
    {
     "name": "stdout",
     "output_type": "stream",
     "text": [
      "Normal Dist. IQR 1.299\n",
      "Sample Dist. IQR 0.899\n"
     ]
    }
   ],
   "source": [
    "pd_norm = pd.DataFrame(norm_sample)\n",
    "pd_norm_stats = pd_norm.describe()\n",
    "iqr_sample = float(spx_stats.loc['75%']-spx_stats.loc['25%'])\n",
    "iqr_norm = float(pd_norm_stats.loc['75%']-pd_norm_stats.loc['25%'])\n",
    "\n",
    "print('Normal Dist. IQR',round(iqr_norm,3))\n",
    "print('Sample Dist. IQR',round(iqr_sample,3))\n"
   ]
  },
  {
   "cell_type": "markdown",
   "metadata": {},
   "source": [
    "There is indeed more variability close to the mean in the normal distribution, considering the middle 50% of data. Still, the data may be drawn from a normal distribution. Let's run the Anderson-Darling test with alpha = 0.01 to find a conclusion to our hypothesis."
   ]
  },
  {
   "cell_type": "code",
   "execution_count": 8,
   "metadata": {},
   "outputs": [
    {
     "name": "stdout",
     "output_type": "stream",
     "text": [
      "For the S&P 500 , we reject H0 at alpha = 1%, data are not drawn from a normal distribution\n",
      "\n",
      "AndersonResult(statistic=254.75077250692266, critical_values=array([0.576, 0.656, 0.787, 0.918, 1.092]), significance_level=array([15. , 10. ,  5. ,  2.5,  1. ]))\n",
      "\n",
      "For the Dow Jones , we reject H0 at alpha = 1%, data are not drawn from a normal distribution\n",
      "\n",
      "AndersonResult(statistic=148.24072777071706, critical_values=array([0.576, 0.656, 0.787, 0.918, 1.091]), significance_level=array([15. , 10. ,  5. ,  2.5,  1. ]))\n",
      "\n"
     ]
    }
   ],
   "source": [
    "#perform anderson darling test on sample data\n",
    "sp_norm_test = sci.anderson(spx_returns['Returns'], dist='norm')\n",
    "dow_norm_test = sci.anderson(dow_returns['Returns'], dist='norm')\n",
    "indexlist = [['S&P 500',sp_norm_test],['Dow Jones',dow_norm_test]]\n",
    "for index in indexlist:\n",
    "    if index[1].statistic > index[1].critical_values[4]:\n",
    "        print('For the',index[0],', we reject H0 at alpha = 1%, data are not drawn from a normal distribution')\n",
    "        print('')\n",
    "        print(index[1])\n",
    "        print('')\n",
    "    else:\n",
    "        print('We fail to reject H0 at alpha = 1% for',index[0], 'data are drawn from a normal distribution')\n",
    "        print('')\n",
    "        print(index[1])\n",
    "        "
   ]
  },
  {
   "cell_type": "markdown",
   "metadata": {},
   "source": [
    "So! We don't seem to have normal distributions of stock movement for the S&P 500 or the DOW. That's very interesting, since the normal distribution is used extensively to model financial instruments, including stocks and options. What can we learn? \n",
    "\n",
    "^First, if we are trading these indices, we can expect that at least 50% of the time, the movements are going to be less than what is predicted from the generally accepted models.\n",
    "\n",
    "^Second, in trading these indices, we are exposed to what are called \"Black Swan\" events, events that aren't predictable and can really hurt or really help, depending on your position. But empirically speaking, the downside is greater than the upside even if theoretically we not only expect much more restrained movement, but also a price could keep going up and up while zero is our lower limit (no negative prices unless it's your birthday or Christmas). Anyone trading risk defined positions is protected from such events, however naked positions could really do some damage here.\n",
    "\n",
    "Next steps\n",
    "*Calculate returns and perform A-D test on a basket of individual stocks to see if we get some sort of aggregation effect when looking at an index, which is a mix of many stocks\n",
    "*Compare empirical results to a random walk model (a la Random Walk Down Wall Street)\n",
    "*Utilize other statistical tests to further our case for or against normality. I mean, who wants to be normal, right? So boring... maybe like this analysis is boring... oh no..."
   ]
  }
 ],
 "metadata": {
  "kernelspec": {
   "display_name": "Python 3",
   "language": "python",
   "name": "python3"
  },
  "language_info": {
   "codemirror_mode": {
    "name": "ipython",
    "version": 3
   },
   "file_extension": ".py",
   "mimetype": "text/x-python",
   "name": "python",
   "nbconvert_exporter": "python",
   "pygments_lexer": "ipython3",
   "version": "3.7.0"
  }
 },
 "nbformat": 4,
 "nbformat_minor": 2
}
